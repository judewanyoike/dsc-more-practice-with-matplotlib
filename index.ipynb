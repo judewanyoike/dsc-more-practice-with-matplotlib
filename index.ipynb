{
 "cells": [
  {
   "cell_type": "markdown",
   "metadata": {},
   "source": [
    "# Customizing Visualizations with Matplotlib"
   ]
  },
  {
   "cell_type": "markdown",
   "metadata": {},
   "source": [
    "## Introduction\n",
    "\n",
    "We had a quick introduction to plotting with `matplotlib` in previous lessons. This lesson covers plotting with Python and `matplotlib` using a more structured approach. In this section, we'll look into the components of standard Matplotlib plots used for creating and customizing visualizations. The lesson will also provide you with lots of example code to get you started with data visualization and customizations. \n",
    "\n",
    "## Objectives\n",
    "\n",
    "You will be able to:\n",
    "\n",
    "* Create a line plot with Matplotlib\n",
    "* Plot multiple graphs on the same axes\n",
    "* Customize axes limits and ticks\n",
    "* Customize line styles and colors\n",
    "* Understand the distinction between Matplotlib figure and axes\n",
    "* Create multiple subplots within a Matplotlib figure\n",
    "\n",
    "Let's first import Matplotlib's `pyplot` module into our working environment along with `numpy` to create sample data.\n",
    "\n",
    "In Jupyter notebooks, you can use `%matplotlib` magic with `inline` to show plots inside the notebook or `qt` for external/interactive plots. `inline` is recommended for most needs."
   ]
  },
  {
   "cell_type": "code",
   "execution_count": 1,
   "metadata": {},
   "outputs": [],
   "source": [
    "# Import pyplot for plotting\n",
    "import matplotlib.pyplot as plt\n",
    "# Import numpy to generate some dummy data\n",
    "import numpy as np\n",
    "%matplotlib inline"
   ]
  },
  {
   "cell_type": "markdown",
   "metadata": {},
   "source": [
    "We can use numpy's `linspace()` function to quickly generate some dummy data for visualizations."
   ]
  },
  {
   "cell_type": "code",
   "execution_count": 2,
   "metadata": {},
   "outputs": [
    {
     "data": {
      "text/plain": [
       "array([   0.        ,   41.66666667,   83.33333333,  125.        ,\n",
       "        166.66666667,  208.33333333,  250.        ,  291.66666667,\n",
       "        333.33333333,  375.        ,  416.66666667,  458.33333333,\n",
       "        500.        ,  541.66666667,  583.33333333,  625.        ,\n",
       "        666.66666667,  708.33333333,  750.        ,  791.66666667,\n",
       "        833.33333333,  875.        ,  916.66666667,  958.33333333,\n",
       "       1000.        ])"
      ]
     },
     "execution_count": 2,
     "metadata": {},
     "output_type": "execute_result"
    }
   ],
   "source": [
    "years = range(1975, 2000)\n",
    "# Create a numpy array of 25 values from 0 - 1000\n",
    "data = np.linspace(0, 1000, 25)\n",
    "data"
   ]
  },
  {
   "cell_type": "markdown",
   "metadata": {},
   "source": [
    "As you can see, this code produced 25 equally spaced numbers from 0 to 1000."
   ]
  },
  {
   "cell_type": "markdown",
   "metadata": {},
   "source": [
    "## `matplotlib` Line Plot\n",
    "\n",
    "Throughout this lesson we'll be using a new type of plot in our examples: a *line plot*.\n",
    "\n",
    "### What Are Line Plots?\n",
    "\n",
    "A line plot (or line graph) is a two-dimensional data visualization that is used to represent a trend. The x-axis should represent something that \"increases\" — either a time measure like seconds, hours, or years or an ordinal measure like finishing places in a competition (1st, 2nd, 3rd, etc.).\n",
    "\n",
    "Line plots look kind of like scatter plots, except that each point is connected by a trend line.\n",
    "\n",
    "### Line Plots in Matplotlib\n",
    "\n",
    "The function to make a line plot in `matplotlib` is just `.plot()` ([documentation here](https://matplotlib.org/api/_as_gen/matplotlib.axes.Axes.plot.html#matplotlib.axes.Axes.plot)). Let's plot our generated data and set a legend:"
   ]
  },
  {
   "cell_type": "code",
   "execution_count": 3,
   "metadata": {
    "scrolled": true
   },
   "outputs": [],
   "source": [
    "# Create the plot\n",
    "fig, ax = plt.subplots()\n",
    "\n",
    "# Use plot() function to create a plot using above values\n",
    "ax.plot(years, data)\n",
    "\n",
    "# Add a legend to the plot\n",
    "ax.legend([\"Sample Data\"]);"
   ]
  },
  {
   "cell_type": "markdown",
   "metadata": {},
   "source": [
    "**Note:** Notice the semicolon at the end of the last line. If this is not included, the location in memory of the last object to be created in the graph can be displayed before the graph is displayed.\n",
    "\n",
    "If you re-run the above cell without the semicolon, you may see something like `<matplotlib.legend.Legend at 0x120f17910>` displayed above the line graph. It doesn't interfere with the plot creation, but it can be distracting to someone reading your notebook.\n",
    "\n",
    "In order to suppress this print statement, just include a semicolon at the end of the last line of a given visualization!"
   ]
  },
  {
   "cell_type": "markdown",
   "metadata": {},
   "source": [
    "### Labelling the Plots\n",
    "\n",
    "With a simple plot as shown above, `matplotlib` also allows users to provide context for the visual information by adding plot titles and labels for axes. The following functions can be used to achieve this:\n",
    "\n",
    " - **`ax.set_xlabel(\"text\") / ax.set_ylabel(\"text\")`**: define labels for x and y axes\n",
    " - **`ax.set_title(\"text\")`**: define the plot title. \n",
    "\n",
    "These functions can be used with the `.legend()` function as we just saw above to add a legend to the plot. The legend function takes an optional keyword argument `loc` that can be used to specify where in the figure the legend is to be drawn. \n",
    "\n",
    " - `ax.legend([\"text\"], loc=1)`: upper right corner\n",
    " - `ax.legend([\"text\"], loc=2)`: upper left corner\n",
    " - `ax.legend([\"text\"], loc=3)`: lower left corner\n",
    " - `ax.legend([\"text\"], loc=4)`: lower right corner\n",
    "\n",
    "Let's add some more information to the above plot using these functions below:"
   ]
  },
  {
   "cell_type": "code",
   "execution_count": 4,
   "metadata": {},
   "outputs": [],
   "source": [
    "# Create the plot\n",
    "fig, ax = plt.subplots()\n",
    "\n",
    "# Use plot() function to create a plot using above values\n",
    "ax.plot(years, data)\n",
    "\n",
    "# Add labels for x and y axes\n",
    "ax.set_xlabel('X Axis Label')\n",
    "ax.set_ylabel('Y Axis Label')\n",
    "\n",
    "# Add a title for the plot\n",
    "ax.set_title('PLOT TITLE')\n",
    "\n",
    "# Add a legend to the plot with legend() in lower right corner\n",
    "ax.legend([\"Sample Data\"], loc=4);"
   ]
  },
  {
   "cell_type": "markdown",
   "metadata": {},
   "source": [
    "## Multiple Plots on the Same Axes\n",
    "\n",
    "To plot multiple sets of data on the same axes, simply call multiple plotting methods on the same `ax` object."
   ]
  },
  {
   "cell_type": "code",
   "execution_count": 5,
   "metadata": {},
   "outputs": [],
   "source": [
    "# Create more fake data\n",
    "other_data = data - (data % 150) + 50\n",
    "\n",
    "# Create the plot\n",
    "fig, ax = plt.subplots()\n",
    "\n",
    "# Plot both sets of data\n",
    "ax.plot(years, data)\n",
    "ax.plot(years, other_data)\n",
    "\n",
    "# Add labels for x and y axes\n",
    "ax.set_xlabel('X Axis Label')\n",
    "ax.set_ylabel('Y Axis Label')\n",
    "\n",
    "# Add a title for the plot\n",
    "ax.set_title('PLOT TITLE')\n",
    "\n",
    "# Add a legend to the plot with legend() in lower right corner\n",
    "# Note there are 2 strings in the legend now\n",
    "ax.legend([\"Sample Data\", \"Other Data\"], loc=4);"
   ]
  },
  {
   "cell_type": "markdown",
   "metadata": {},
   "source": [
    "It is also possible to plot more than one kind of graph on the same axes. For example, this shows both a line graph and a scatter plot:"
   ]
  },
  {
   "cell_type": "code",
   "execution_count": 6,
   "metadata": {},
   "outputs": [],
   "source": [
    "# Create fake data\n",
    "x1 = [1, 4, 6, 8]\n",
    "y1 = [10, 15, 27, 32]\n",
    "x2 = [0.5, 2.2, 4.2, 6.5]\n",
    "y2 = [21, 19, 9, 26]\n",
    "\n",
    "# Create the plot\n",
    "fig, ax = plt.subplots()\n",
    "\n",
    "# Generate a line plot\n",
    "ax.plot(x1, y1)\n",
    "\n",
    "# Draw a scatter plot on same axes\n",
    "ax.scatter(x2, y2)\n",
    "\n",
    "# Add a legend\n",
    "ax.legend([\"Dataset 1\", \"Dataset 2\"]);"
   ]
  },
  {
   "cell_type": "markdown",
   "metadata": {},
   "source": [
    "Be careful when combining plots this way. Consider: *Do they really have the same x and y axis? Why do they need to be represented by two different kinds of plots?*"
   ]
  },
  {
   "cell_type": "markdown",
   "metadata": {},
   "source": [
    "## Customizing Axes\n",
    "\n",
    "For these examples, we'll start with this line plot showing an exponential curve:"
   ]
  },
  {
   "cell_type": "code",
   "execution_count": 7,
   "metadata": {},
   "outputs": [],
   "source": [
    "# Generate data\n",
    "x = np.arange(101)\n",
    "y = x**2\n",
    "\n",
    "# Create the plot\n",
    "fig, ax = plt.subplots()\n",
    "\n",
    "# Draw a line graph\n",
    "ax.plot(x,y)\n",
    "\n",
    "# Set title to explain what we're doing\n",
    "ax.set_title(\"Line Plot with Default Axes\");"
   ]
  },
  {
   "cell_type": "markdown",
   "metadata": {},
   "source": [
    "### Axis Limits\n",
    "\n",
    "Sometimes it is helpful (or just aesthetically pleasing) to \"zoom in\" or \"zoom out\" of a plot. To do this, set the *limits* of the axes using `set_xlim(min,max)` and/or `set_ylim(min,max)`.\n",
    "\n",
    "Here is the above graph \"zoomed out\" some, so there is more whitespace around the edges:"
   ]
  },
  {
   "cell_type": "code",
   "execution_count": 8,
   "metadata": {},
   "outputs": [],
   "source": [
    "# Create plot, draw graph, set title\n",
    "fig, ax = plt.subplots()\n",
    "ax.plot(x,y)\n",
    "ax.set_title(\"Zoomed Out\")\n",
    "\n",
    "# Set the limits of x and y to \"zoom out\"\n",
    "ax.set_xlim(min(x)-15, max(x)+15)\n",
    "ax.set_ylim(min(y)-1500, max(y)+1500);"
   ]
  },
  {
   "cell_type": "markdown",
   "metadata": {},
   "source": [
    "And here it is \"zoomed in\" so we are only looking at x values between 80 and 100:"
   ]
  },
  {
   "cell_type": "code",
   "execution_count": 9,
   "metadata": {},
   "outputs": [],
   "source": [
    "# Create plot, draw graph, set title\n",
    "fig, ax = plt.subplots()\n",
    "ax.plot(x,y)\n",
    "ax.set_title(\"Zoomed In\")\n",
    "\n",
    "# Set the limits of x and y to \"zoom in\"\n",
    "ax.set_xlim(80, 100)\n",
    "ax.set_ylim(6000, 10000);"
   ]
  },
  {
   "cell_type": "markdown",
   "metadata": {},
   "source": [
    "## Axis Ticks\n",
    "\n",
    "You've seen that you can change the limits of the x and y axes, but you can also change the scales and numbering of the ticks on the axes themselves. You do this via the `.set_xticks()` and `.set_yticks()` methods.\n",
    "\n",
    "Let's change the default axes so there are 11 ticks on the x-axis 5 ticks on the y-axis. (This would be a relevant technique if more granularity is useful for the x-axis data than the y-axis data.)"
   ]
  },
  {
   "cell_type": "code",
   "execution_count": 10,
   "metadata": {},
   "outputs": [],
   "source": [
    "# Create plot, draw graph, set title\n",
    "fig, ax = plt.subplots()\n",
    "ax.plot(x,y)\n",
    "ax.set_title(\"More Ticks on x-axis, Fewer Ticks on y-axis\")\n",
    "\n",
    "# Customize the x and y axis ticks so x-axis has 11 and y-axis has 5\n",
    "xticks = np.linspace(start=min(x), stop=max(x), num=11)\n",
    "yticks = np.linspace(start=min(y), stop=max(y), num=5)\n",
    "ax.set_xticks(xticks)\n",
    "ax.set_yticks(yticks);"
   ]
  },
  {
   "cell_type": "markdown",
   "metadata": {},
   "source": [
    "Axis ticks that go beyond the minimum and maximum of the data can make for poor graphs:"
   ]
  },
  {
   "cell_type": "code",
   "execution_count": 11,
   "metadata": {},
   "outputs": [],
   "source": [
    "# Create plot, draw graph, set title\n",
    "fig, ax = plt.subplots()\n",
    "ax.plot(x,y)\n",
    "ax.set_title('Displaying Terrible Use of xticks and yticks')\n",
    "\n",
    "# Customize the x and y axis ticks so the max tick is higher than the max data\n",
    "xticks = np.linspace(start=min(x), stop=max(x)*2, num=11)\n",
    "yticks = np.linspace(start=min(y), stop=max(y)*10, num=11)\n",
    "ax.set_xticks(xticks)\n",
    "ax.set_yticks(yticks);"
   ]
  },
  {
   "cell_type": "markdown",
   "metadata": {},
   "source": [
    "But smaller tick ranges then the data itself will not crop the graph (use `set_xlim` and/or `set_ylim` to crop):"
   ]
  },
  {
   "cell_type": "code",
   "execution_count": 12,
   "metadata": {},
   "outputs": [],
   "source": [
    "# Create plot, draw graph, set title\n",
    "fig, ax = plt.subplots()\n",
    "ax.plot(x,y)\n",
    "ax.set_title('More Things to Avoid')\n",
    "\n",
    "# Customize the x and y axis ticks so the max tick is smaller than the max data\n",
    "xticks = np.linspace(start=min(x), stop=max(x)/2, num=11)\n",
    "yticks = np.linspace(start=min(y), stop=max(y)/2, num=11)\n",
    "ax.set_xticks(xticks)\n",
    "ax.set_yticks(yticks);"
   ]
  },
  {
   "cell_type": "markdown",
   "metadata": {},
   "source": [
    "### Customizing Line Styles\n",
    "\n",
    "The `.plot` function takes additional parameters like `color`, `linewidth`, `linestyle` and `marker` etc. for customization of plots and to \"prettify\" them. A complete list of arguments can be viewed in the [official documentation](https://matplotlib.org/api/_as_gen/matplotlib.pyplot.plot.html).\n",
    "\n",
    "For example, with the line graph + scatter plot example from above, here we have customized:\n",
    "\n",
    "1. X and Y axis limits (to add some whitespace)\n",
    "2. Color, width, and line style for the line graph\n",
    "3. Color and marker style for the scatter plot\n",
    "\n",
    "(Note that the legend automatically reflects the style of the plots.)"
   ]
  },
  {
   "cell_type": "code",
   "execution_count": 13,
   "metadata": {
    "scrolled": true
   },
   "outputs": [],
   "source": [
    "# Create the plot\n",
    "fig, ax = plt.subplots()\n",
    "\n",
    "# Set the limits of x and y axes\n",
    "ax.set_xlim(0, 9), ax.set_ylim(5,35)\n",
    "\n",
    "# Generate a line plot with custom styling\n",
    "ax.plot(x1, y1, color='lightblue', linewidth=3, linestyle = '-.')\n",
    "\n",
    "# Draw a scatter plot on same axes with custom styling\n",
    "ax.scatter(x2, y2, color='red', marker='x')\n",
    "\n",
    "# Add a legend\n",
    "ax.legend([\"Dataset 1\", \"Dataset 2\"]);"
   ]
  },
  {
   "cell_type": "markdown",
   "metadata": {},
   "source": [
    "The following plot summarizes different types of line styles you can draw in Matplotlib:"
   ]
  },
  {
   "cell_type": "code",
   "execution_count": 14,
   "metadata": {},
   "outputs": [],
   "source": [
    "# Set up data and plot\n",
    "x = np.arange(0, 10)\n",
    "fig, ax = plt.subplots(figsize=(12,6))\n",
    "\n",
    "ax.plot(x, x, color=\"red\", linewidth=0.25)\n",
    "ax.plot(x, x+2, color=\"red\", linewidth=0.50)\n",
    "ax.plot(x, x+4, color=\"red\", linewidth=1.00)\n",
    "ax.plot(x, x+6, color=\"red\", linewidth=2.00)\n",
    "\n",
    "# possible linestyle options ‘-‘, ‘–’, ‘-.’, ‘:’, ‘steps’\n",
    "ax.plot(x, x+10, color=\"green\", lw=3, linestyle='-')\n",
    "ax.plot(x, x+12, color=\"green\", lw=3, ls='-.')\n",
    "ax.plot(x, x+14, color=\"green\", lw=3, ls=':')\n",
    "\n",
    "# custom dash\n",
    "line, = ax.plot(x, x+18, color=\"black\", lw=1.50)\n",
    "line.set_dashes([5, 10, 15, 10]) # format: line length, space length, ...\n",
    "\n",
    "# possible marker symbols: marker = '+', 'o', '*', 's', ',', '.', '1', '2', '3', '4', ...\n",
    "ax.plot(x, x+22, color=\"blue\", lw=3, ls='-', marker='+')\n",
    "ax.plot(x, x+24, color=\"blue\", lw=3, ls='--', marker='o')\n",
    "ax.plot(x, x+26, color=\"blue\", lw=3, ls='-', marker='s')\n",
    "ax.plot(x, x+28, color=\"blue\", lw=3, ls='--', marker='1')\n",
    "\n",
    "# marker size and color\n",
    "ax.plot(x, x+32, color=\"purple\", lw=1, ls='-', marker='o', markersize=2)\n",
    "ax.plot(x, x+34, color=\"purple\", lw=1, ls='-', marker='o', markersize=4)\n",
    "ax.plot(x, x+36, color=\"purple\", lw=1, ls='-', marker='o', markersize=8, markerfacecolor=\"red\")\n",
    "ax.plot(x, x+38, color=\"purple\", lw=1, ls='-', marker='s', markersize=8, markerfacecolor=\"yellow\", markeredgewidth=3, markeredgecolor=\"green\");"
   ]
  },
  {
   "cell_type": "markdown",
   "metadata": {},
   "source": [
    "## More `matplotlib` Objects\n",
    "\n",
    "The structure of a plot in `matplotlib` can be generalized as shown below.  \n",
    "![](https://curriculum-content.s3.amazonaws.com/data-science/images/gplot.png)\n",
    "\n",
    "### Figure and Axes Objects\n",
    "Looking at the above image, a **figure** is a top level component that refers to the overall image space. **Axes** are added to the figure to define the area where data is plotted with the `plot()` function seen above. A figure can have a number of components like **title(s)** which may be used to further explain and customize the plot.  Axes have **ticks** and **labels** providing a perspective to the plot.\n",
    "\n",
    "In this example, we set the color of the figure to be gray and the color of the axes to be blue, to help visually distinguish them:"
   ]
  },
  {
   "cell_type": "code",
   "execution_count": 15,
   "metadata": {},
   "outputs": [],
   "source": [
    "fig, ax = plt.subplots()\n",
    "\n",
    "fig.set_facecolor(\"gray\")\n",
    "fig.suptitle(\"This is the title of the figure\")\n",
    "\n",
    "ax.set_facecolor(\"blue\")\n",
    "ax.set_title(\"This is the title of the axes\");"
   ]
  },
  {
   "cell_type": "markdown",
   "metadata": {},
   "source": [
    "### Sub-Plots\n",
    "\n",
    "In all of the examples so far, we have used this syntax to create a single figure with a single axes:\n",
    "\n",
    "```python\n",
    "fig, ax = plt.subplots()\n",
    "```\n",
    "\n",
    "#### Rows and Columns\n",
    "\n",
    "We can also create multiple axes (i.e. multiple subplots) within a single figure by specifying the `nrows` and/or `ncols` arguments.\n",
    "\n",
    "For example, here we are creating 3 side-by-side axes within a figure:"
   ]
  },
  {
   "cell_type": "code",
   "execution_count": 16,
   "metadata": {},
   "outputs": [],
   "source": [
    "fig, axes = plt.subplots(figsize=(11, 3), ncols=3)"
   ]
  },
  {
   "cell_type": "markdown",
   "metadata": {},
   "source": [
    "Here we have 3 axes stacked on top of one another:"
   ]
  },
  {
   "cell_type": "code",
   "execution_count": 17,
   "metadata": {},
   "outputs": [],
   "source": [
    "fig, axes = plt.subplots(figsize=(3, 11), nrows=3)"
   ]
  },
  {
   "cell_type": "markdown",
   "metadata": {},
   "source": [
    "#### Customizing Individual Axes\n",
    "\n",
    "If you try to apply methods like `set_facecolor` to this `axes` variable, you will get an error message:"
   ]
  },
  {
   "cell_type": "code",
   "execution_count": 18,
   "metadata": {},
   "outputs": [
    {
     "ename": "AttributeError",
     "evalue": "'numpy.ndarray' object has no attribute 'set_facecolor'",
     "output_type": "error",
     "traceback": [
      "\u001b[1;31m---------------------------------------------------------------------------\u001b[0m",
      "\u001b[1;31mAttributeError\u001b[0m                            Traceback (most recent call last)",
      "Cell \u001b[1;32mIn[18], line 1\u001b[0m\n\u001b[1;32m----> 1\u001b[0m axes\u001b[38;5;241m.\u001b[39mset_facecolor(\u001b[38;5;124m\"\u001b[39m\u001b[38;5;124morange\u001b[39m\u001b[38;5;124m\"\u001b[39m)\n",
      "\u001b[1;31mAttributeError\u001b[0m: 'numpy.ndarray' object has no attribute 'set_facecolor'"
     ]
    }
   ],
   "source": [
    "axes.set_facecolor(\"orange\")"
   ]
  },
  {
   "cell_type": "markdown",
   "metadata": {},
   "source": [
    "This is because `axes` is a collection of axes objects, not just one.\n",
    "\n",
    "We can access an individual axes object like this:"
   ]
  },
  {
   "cell_type": "code",
   "execution_count": null,
   "metadata": {},
   "outputs": [],
   "source": [
    "fig, axes = plt.subplots(figsize=(11, 3), ncols=3)\n",
    "axes[1].set_facecolor(\"orange\")"
   ]
  },
  {
   "cell_type": "markdown",
   "metadata": {},
   "source": [
    "**Note:** `axes` is a collection of objects stored in a list-like data structure (a NumPy `ndarray`), and like other lists in Python it is \"zero indexed\": the \"first\" element in the list is selected with a 0, the \"second\" element selected with a 1, and so on.\n",
    "\n",
    "Thus, in order to change the \"middle\" graph in the line of graphs, we change the \"second\" object stored in `axes`, by using `axes[1]`.\n",
    "\n",
    "If we wanted to change the \"first\" graph, we would change the \"first\" object stored in axes, by using `axes[0]`.\n",
    "\n",
    "Alternatively if we don't want to use this `axes[index]` notation every time we want to access a value from within a list, we can \"unpack\" each axes object into its own uniquely-named variable like this:"
   ]
  },
  {
   "cell_type": "code",
   "execution_count": 19,
   "metadata": {},
   "outputs": [],
   "source": [
    "fig, (first_ax, second_ax, third_ax) = plt.subplots(figsize=(11, 3), ncols=3)\n",
    "third_ax.set_facecolor(\"yellow\")"
   ]
  },
  {
   "cell_type": "markdown",
   "metadata": {},
   "source": [
    "Whether you use an `axes` variable or unpack the values is up to you — depending on the context of your code, either one might be the cleaner or clearer option.\n",
    "\n",
    "### Alternative Techniques for Creating Figure and Axes\n",
    "\n",
    "#### `.add_subplots` Technique\n",
    "\n",
    "It is also possible to create a figure with `.figure` and add subplots to a figure after the figure has already been created using the `.add_subplots` method. This allows you to create subplots that take up more than one space in the grid.\n",
    "\n",
    "(Don't worry if this syntax is confusing or you're not able to customize it; we are mainly demonstrating a different syntax that you might see in example code.)"
   ]
  },
  {
   "cell_type": "code",
   "execution_count": 20,
   "metadata": {},
   "outputs": [],
   "source": [
    "fig = plt.figure(figsize=(10,4))\n",
    "\n",
    "# Each add_subplot starts with 1, 3 specifying 1 row and 3 cols\n",
    "# Then the 3rd specifies which \"cells\" to fill, which are 1-indexed\n",
    "\n",
    "# This axes fills the left 2/3rds, spanning cell 1 and 2\n",
    "wide_axes = fig.add_subplot(1, 3, (1, 2))\n",
    "# This axes fills the right 1/3rd, just filling cell 3\n",
    "narrow_axes = fig.add_subplot(1, 3, 3)\n",
    "\n",
    "# 1/3rd includes the axes labels, so the actual plotting area is\n",
    "# not exactly 1/3rd"
   ]
  },
  {
   "cell_type": "markdown",
   "metadata": {},
   "source": [
    "#### \"PyPlot\" Syntax\n",
    "\n",
    "So far, all of these examples have used the \"object-oriented\" syntax, which is the preferred interface for Matplotlib. (The object-oriented syntax uses `fig, ax = plt.subplots()` or `fig = plt.figure()`.)\n",
    "\n",
    "When you are looking at examples online, you might also encounter the \"PyPlot\" syntax.\n",
    "\n",
    "This syntax does not create variables representing the figure and axes directly. Instead, it calls functions on `plt` (the alias we used to import PyPlot) directly with a \"state machine\" approach. This is a less-flexible technique but it is nevertheless popular in some circles, especially for programmers who are more familiar with MATLAB than Python. You may see examples of the PyPlot syntax in our lessons when we are creating quick graphs, where precise control of the graph is less important and we are just trying to produce an example with the fewest possible lines of code.\n",
    "\n",
    "Recall the first plot in this lesson. The object-oriented syntax looked like this:\n",
    "\n",
    "```python\n",
    "# Create the plot\n",
    "fig, ax = plt.subplots()\n",
    "\n",
    "# Use plot() function to create a plot using above values\n",
    "ax.plot(years, data)\n",
    "\n",
    "# Add a legend to the plot\n",
    "ax.legend([\"Sample Data\"]);\n",
    "```\n",
    "\n",
    "The PyPlot syntax to produce the same plot looks like this:"
   ]
  },
  {
   "cell_type": "code",
   "execution_count": 21,
   "metadata": {},
   "outputs": [],
   "source": [
    "# You don't need to create the plot before adding the line\n",
    "\n",
    "# Use plot() function to create a plot using above values\n",
    "plt.plot(years, data)\n",
    "\n",
    "# Add a legend to the plot\n",
    "plt.legend([\"Sample Data\"]);\n",
    "\n",
    "# You will often see this line in examples, but it isn't \n",
    "# needed with %matplotlib inline\n",
    "# plt.show()"
   ]
  },
  {
   "cell_type": "markdown",
   "metadata": {},
   "source": [
    "Note that we saved 1 line of code by using this syntax in this example. However, say we want to reproduce this example:\n",
    "\n",
    "```python\n",
    "fig, axes = plt.subplots(figsize=(11, 3), ncols=3)\n",
    "axes[1].set_facecolor(\"orange\")\n",
    "```\n",
    "\n",
    "Now instead of just being able to use the `axes` variable, we have to call `plt.gcf().axes` in order to get the current figure and access its axes:"
   ]
  },
  {
   "cell_type": "code",
   "execution_count": 22,
   "metadata": {},
   "outputs": [],
   "source": [
    "plt.subplots(figsize=(11, 3), ncols=3)\n",
    "plt.gcf().axes[1].set_facecolor(\"orange\")"
   ]
  },
  {
   "cell_type": "markdown",
   "metadata": {},
   "source": [
    "In general, you want to use the object-oriented syntax when possible, but it's useful to be able to recognize what's happening when you see examples that use the PyPlot syntax."
   ]
  },
  {
   "cell_type": "markdown",
   "metadata": {},
   "source": [
    "### Plotting with Subplots\n",
    "\n",
    "Let's re-draw the above combined line plot and scatter plot in two different subplots."
   ]
  },
  {
   "cell_type": "code",
   "execution_count": 23,
   "metadata": {},
   "outputs": [],
   "source": [
    "# Create the plot\n",
    "fig, (ax1, ax2) = plt.subplots(figsize=(11,4), ncols=2)\n",
    "\n",
    "# Set different limits of x and y axes for subplots\n",
    "ax1.set_xlim(0, 9), ax1.set_ylim(7, 35)\n",
    "ax2.set_xlim(-1, 8), ax2.set_ylim(5, 30)\n",
    "\n",
    "# On one subplot, plot a line graph\n",
    "ax1.plot(x1, y1, color='lightblue', linewidth=3, linestyle = '-.')\n",
    "\n",
    "# On the other subplot, plot a scatter plot\n",
    "ax2.scatter(x2, y2, color='red', marker='x')\n",
    "\n",
    "# Add a title to the figure\n",
    "fig.suptitle(\"Plots Across Two Subplots\", fontsize=24, x=0.44)\n",
    "\n",
    "# Add a legend to the figure\n",
    "# (in general, these are quite nitpicky to style and position)\n",
    "fig.legend(labels=[\"Dataset 1\", \"Dataset 2\"], loc=(.68, .88));"
   ]
  },
  {
   "cell_type": "markdown",
   "metadata": {},
   "source": [
    "Note that it is possible to recreate this using PyPlot syntax, it just makes many of the lines longer:"
   ]
  },
  {
   "cell_type": "code",
   "execution_count": 24,
   "metadata": {},
   "outputs": [],
   "source": [
    "# Create the plot\n",
    "plt.subplots(figsize=(11,4), ncols=2)\n",
    "\n",
    "# Set the limits of x and y axes for both subplots\n",
    "# If we wanted the same x and y limits for both, we could use:\n",
    "# plt.xlim(0, 9)\n",
    "# plt.ylim(5, 35)\n",
    "plt.gcf().axes[0].set_xlim(0, 9), plt.gcf().axes[0].set_ylim(7, 35)\n",
    "plt.gcf().axes[1].set_xlim(-1, 8), plt.gcf().axes[1].set_ylim(5, 30)\n",
    "\n",
    "# On one subplot, plot a line graph\n",
    "plt.gcf().axes[0].plot(x1, y1, color='lightblue', linewidth=3, linestyle = '-.')\n",
    "\n",
    "# On the other subplot, plot a scatter plot\n",
    "plt.gcf().axes[1].scatter(x2, y2, color='red', marker='x')\n",
    "\n",
    "# Add a title to the figure\n",
    "plt.gcf().suptitle(\"Plots Across Two Subplots\", fontsize=24, x=0.44)\n",
    "\n",
    "# Add a legend to the figure\n",
    "plt.gcf().legend(labels=[\"Dataset 1\", \"Dataset 2\"], loc=(.68, .88));"
   ]
  },
  {
   "cell_type": "markdown",
   "metadata": {},
   "source": [
    "## More Subplots\n",
    "\n",
    "You can also define a two-dimensional grid of subplots like this:\n",
    "\n",
    "```python\n",
    "fig, axes = plt.subplots(ncols=2, nrows=3) # 2 columns, 3 rows\n",
    "```\n",
    "\n",
    "From there, you can then plot on the individual subplots by accessing the subplot through the `axes` which is now 2-dimensional:\n",
    "\n",
    "```python\n",
    "top_left = axes[0][0]\n",
    "top_right = axes[0][1]\n",
    "row2_col1 = axes[1][0]\n",
    "row2_col2 = axes[1][1]\n",
    "row3_col1 = axes[2][0]\n",
    "row3_col2 = axes[2][1]\n",
    "```\n",
    "\n",
    "It is possible to loop over these indices more succinctly using floor division and modular arithmetic in a for loop:"
   ]
  },
  {
   "cell_type": "code",
   "execution_count": 25,
   "metadata": {},
   "outputs": [
    {
     "name": "stderr",
     "output_type": "stream",
     "text": [
      "C:\\Users\\Jude Wanyoike\\AppData\\Local\\Temp\\ipykernel_25580\\3426031579.py:3: RuntimeWarning: More than 20 figures have been opened. Figures created through the pyplot interface (`matplotlib.pyplot.figure`) are retained until explicitly closed and may consume too much memory. (To control this warning, see the rcParam `figure.max_open_warning`). Consider using `matplotlib.pyplot.close()`.\n",
      "  fig, axes = plt.subplots(nrows=3, ncols=2, figsize=(10,10))\n"
     ]
    }
   ],
   "source": [
    "# Set up fake data and figure\n",
    "x = np.linspace(-10, 10, 101)\n",
    "fig, axes = plt.subplots(nrows=3, ncols=2, figsize=(10,10))\n",
    "fig.suptitle('Graphs of Various Polynomials')\n",
    "fig.tight_layout()\n",
    "\n",
    "for n in range(6):\n",
    "    # Find the relevant subplot\n",
    "    row = n//2 # n divided by 2 without the remainder\n",
    "    col = n%2  # just the remainder of n divided by 2\n",
    "    ax = axes[row][col]\n",
    "    \n",
    "    # Plot x to the power of n\n",
    "    y = x**n\n",
    "    ax.plot(x,y)\n",
    "    ax.set_title('x^{}'.format(n), y=0.85)"
   ]
  },
  {
   "cell_type": "markdown",
   "metadata": {},
   "source": [
    "## Other Plotting Functions in `matplotlib`\n",
    "\n",
    "In this lesson, we used `ax.scatter()` for generating a scatter plot and `ax.plot()` for generating a line plot. The following is a list of other similar functions which can be readily used for visualizing data:\n",
    "\n",
    "    .plot()           Line plot\n",
    "    .scatter()        Scatter plot\n",
    "    .bar()\t        Vertical bar graph\n",
    "    .barh()\t       Horizontal bar graph\n",
    "    .axhline()\t    Horizontal line across axes\n",
    "    .vline()\t      Vertical line across axes\n",
    "    .stackplot()\t  Stack plot\n",
    "    \n",
    "You'll learn more about these functions in upcoming labs and lessons, and you can find more information in the [Matplotlib axes documentation](https://matplotlib.org/api/axes_api.html#plotting).\n",
    "\n",
    "## Summary\n",
    "\n",
    "This lesson provided you with some more experience with plotting in `matplotlib`. We introduced line plots, an additional type of plot used for two-dimensional data. Then the lesson demonstrated how to customize the axes and line style. Next, the lesson dove into the details of figures, axes, and techniques for drawing multiple plots within the same figure. The lesson then ended by providing a quick reference list of further plotting functions. "
   ]
  },
  {
   "cell_type": "code",
   "execution_count": null,
   "metadata": {},
   "outputs": [],
   "source": []
  },
  {
   "cell_type": "code",
   "execution_count": null,
   "metadata": {},
   "outputs": [],
   "source": []
  },
  {
   "cell_type": "code",
   "execution_count": null,
   "metadata": {},
   "outputs": [],
   "source": []
  }
 ],
 "metadata": {
  "kernelspec": {
   "display_name": "Python 3 (ipykernel)",
   "language": "python",
   "name": "python3"
  },
  "language_info": {
   "codemirror_mode": {
    "name": "ipython",
    "version": 3
   },
   "file_extension": ".py",
   "mimetype": "text/x-python",
   "name": "python",
   "nbconvert_exporter": "python",
   "pygments_lexer": "ipython3",
   "version": "3.12.7"
  },
  "toc": {
   "base_numbering": 1,
   "nav_menu": {},
   "number_sections": true,
   "sideBar": true,
   "skip_h1_title": false,
   "title_cell": "Table of Contents",
   "title_sidebar": "Contents",
   "toc_cell": false,
   "toc_position": {},
   "toc_section_display": true,
   "toc_window_display": false
  }
 },
 "nbformat": 4,
 "nbformat_minor": 4
}
